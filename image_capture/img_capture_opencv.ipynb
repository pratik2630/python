{
 "cells": [
  {
   "cell_type": "markdown",
   "id": "83233f85",
   "metadata": {},
   "source": [
    "# Pre-requisite modules"
   ]
  },
  {
   "cell_type": "code",
   "execution_count": null,
   "id": "de77cb68",
   "metadata": {},
   "outputs": [],
   "source": [
    "pip install opencv-python"
   ]
  },
  {
   "cell_type": "code",
   "execution_count": null,
   "id": "1dba22b1",
   "metadata": {},
   "outputs": [],
   "source": [
    "pip install Pillow"
   ]
  },
  {
   "cell_type": "markdown",
   "id": "388dad07",
   "metadata": {},
   "source": [
    "# Image capture code"
   ]
  },
  {
   "cell_type": "code",
   "execution_count": null,
   "id": "fd8cb1b2",
   "metadata": {},
   "outputs": [],
   "source": [
    "import cv2\n",
    "from PIL import Image\n",
    "\n",
    "def capture_and_save_photo(file_name):\n",
    "    # Initialize the webcam\n",
    "    webcam = cv2.VideoCapture(0)\n",
    "\n",
    "    # Read an image from the webcam\n",
    "    ret, frame = webcam.read()\n",
    "\n",
    "    # Release the webcam\n",
    "    webcam.release()\n",
    "\n",
    "    # Convert the image to RGB (PIL uses RGB)\n",
    "    image = cv2.cvtColor(frame, cv2.COLOR_BGR2RGB)\n",
    "\n",
    "    # Save the image with the provided file name\n",
    "    with open(file_name, 'wb') as img_file:\n",
    "        Image.fromarray(image).save(img_file)\n",
    "\n",
    "    # Display the image\n",
    "    img = Image.open(file_name)\n",
    "    img.show()\n",
    "    return image\n",
    "\n",
    "if __name__ == \"__main__\":\n",
    "    your_name = \"pratik\"  # Replace with your desired file name\n",
    "    file_name = f\"{your_name}_photo.jpg\"\n",
    "    image = capture_and_save_photo(file_name)\n"
   ]
  },
  {
   "cell_type": "markdown",
   "id": "20d7f041",
   "metadata": {},
   "source": [
    "# Face recognition code"
   ]
  },
  {
   "cell_type": "code",
   "execution_count": null,
   "id": "ea0b8669",
   "metadata": {},
   "outputs": [],
   "source": [
    "import cv2\n",
    "\n",
    "# Load the pre-trained face cascade classifier\n",
    "face_cascade = cv2.CascadeClassifier(cv2.data.haarcascades + 'haarcascade_frontalface_default.xml')\n",
    "\n",
    "# Load an image from file\n",
    "image = cv2.imread('v2.jpg')\n",
    "\n",
    "# Convert the image to grayscale (required by the classifier)\n",
    "gray = cv2.cvtColor(image, cv2.COLOR_BGR2GRAY)\n",
    "\n",
    "# Detect faces in the image\n",
    "faces = face_cascade.detectMultiScale(gray, scaleFactor=1.1, minNeighbors=5, minSize=(30, 30))\n",
    "\n",
    "# Draw rectangles around the detected faces\n",
    "for (x, y, w, h) in faces:\n",
    "    cv2.rectangle(image, (x, y), (x + w, y + h), (0, 255, 0), 3)\n",
    "\n",
    "# Display the image with detected faces\n",
    "cv2.imshow('Face Detection', image)\n",
    "cv2.waitKey(0)\n",
    "cv2.destroyAllWindows()\n"
   ]
  },
  {
   "cell_type": "code",
   "execution_count": null,
   "id": "f195888c",
   "metadata": {},
   "outputs": [],
   "source": []
  }
 ],
 "metadata": {
  "kernelspec": {
   "display_name": "Python 3 (ipykernel)",
   "language": "python",
   "name": "python3"
  },
  "language_info": {
   "codemirror_mode": {
    "name": "ipython",
    "version": 3
   },
   "file_extension": ".py",
   "mimetype": "text/x-python",
   "name": "python",
   "nbconvert_exporter": "python",
   "pygments_lexer": "ipython3",
   "version": "3.10.9"
  }
 },
 "nbformat": 4,
 "nbformat_minor": 5
}
