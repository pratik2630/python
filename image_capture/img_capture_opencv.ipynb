{
 "cells": [
  {
   "cell_type": "code",
   "execution_count": 3,
   "id": "de77cb68",
   "metadata": {},
   "outputs": [
    {
     "name": "stdout",
     "output_type": "stream",
     "text": [
      "Defaulting to user installation because normal site-packages is not writeable\n",
      "Collecting opencv-python\n",
      "  Downloading opencv_python-4.8.0.74-cp37-abi3-win_amd64.whl (38.1 MB)\n",
      "     ---------------------------------------- 38.1/38.1 MB 1.7 MB/s eta 0:00:00\n",
      "Requirement already satisfied: numpy>=1.21.2 in c:\\programdata\\anaconda3\\lib\\site-packages (from opencv-python) (1.23.5)\n",
      "Installing collected packages: opencv-python\n",
      "Successfully installed opencv-python-4.8.0.74\n",
      "Note: you may need to restart the kernel to use updated packages.\n"
     ]
    },
    {
     "name": "stderr",
     "output_type": "stream",
     "text": [
      "\n",
      "[notice] A new release of pip available: 22.3.1 -> 23.2.1\n",
      "[notice] To update, run: C:\\ProgramData\\anaconda3\\python.exe -m pip install --upgrade pip\n"
     ]
    }
   ],
   "source": [
    "pip install opencv-python"
   ]
  },
  {
   "cell_type": "code",
   "execution_count": 4,
   "id": "1dba22b1",
   "metadata": {},
   "outputs": [
    {
     "name": "stdout",
     "output_type": "stream",
     "text": [
      "Defaulting to user installation because normal site-packages is not writeable\n",
      "Requirement already satisfied: Pillow in c:\\programdata\\anaconda3\\lib\\site-packages (9.4.0)\n",
      "Note: you may need to restart the kernel to use updated packages.\n"
     ]
    },
    {
     "name": "stderr",
     "output_type": "stream",
     "text": [
      "\n",
      "[notice] A new release of pip available: 22.3.1 -> 23.2.1\n",
      "[notice] To update, run: C:\\ProgramData\\anaconda3\\python.exe -m pip install --upgrade pip\n"
     ]
    }
   ],
   "source": [
    "pip install Pillow"
   ]
  },
  {
   "cell_type": "code",
   "execution_count": 13,
   "id": "d5564ccf",
   "metadata": {},
   "outputs": [
    {
     "name": "stdout",
     "output_type": "stream",
     "text": [
      "^C\n",
      "Note: you may need to restart the kernel to use updated packages.\n"
     ]
    }
   ],
   "source": [
    "pip install face_recognition"
   ]
  },
  {
   "cell_type": "code",
   "execution_count": 9,
   "id": "fd8cb1b2",
   "metadata": {},
   "outputs": [],
   "source": [
    "import cv2\n",
    "from PIL import Image\n",
    "\n",
    "def capture_and_save_photo(file_name):\n",
    "    # Initialize the webcam\n",
    "    webcam = cv2.VideoCapture(0)\n",
    "\n",
    "    # Read an image from the webcam\n",
    "    ret, frame = webcam.read()\n",
    "\n",
    "    # Release the webcam\n",
    "    webcam.release()\n",
    "\n",
    "    # Convert the image to RGB (PIL uses RGB)\n",
    "    image = cv2.cvtColor(frame, cv2.COLOR_BGR2RGB)\n",
    "\n",
    "    # Save the image with the provided file name\n",
    "    with open(file_name, 'wb') as img_file:\n",
    "        Image.fromarray(image).save(img_file)\n",
    "\n",
    "    # Display the image\n",
    "    img = Image.open(file_name)\n",
    "    img.show()\n",
    "    return image\n",
    "\n",
    "if __name__ == \"__main__\":\n",
    "    your_name = \"pratik\"  # Replace with your desired file name\n",
    "    file_name = f\"{your_name}_photo.jpg\"\n",
    "    image = capture_and_save_photo(file_name)\n"
   ]
  },
  {
   "cell_type": "code",
   "execution_count": 12,
   "id": "68611cf9",
   "metadata": {},
   "outputs": [
    {
     "ename": "ModuleNotFoundError",
     "evalue": "No module named 'face_recognition'",
     "output_type": "error",
     "traceback": [
      "\u001b[1;31m---------------------------------------------------------------------------\u001b[0m",
      "\u001b[1;31mModuleNotFoundError\u001b[0m                       Traceback (most recent call last)",
      "Cell \u001b[1;32mIn[12], line 1\u001b[0m\n\u001b[1;32m----> 1\u001b[0m \u001b[38;5;28;01mimport\u001b[39;00m \u001b[38;5;21;01mface_recognition\u001b[39;00m\n\u001b[0;32m      2\u001b[0m \u001b[38;5;28;01mdef\u001b[39;00m \u001b[38;5;21mcrop_face_and_save_gray\u001b[39m(image, file_name):\n\u001b[0;32m      3\u001b[0m     \u001b[38;5;66;03m# Detect face locations in the image\u001b[39;00m\n\u001b[0;32m      4\u001b[0m     face_locations \u001b[38;5;241m=\u001b[39m face_recognition\u001b[38;5;241m.\u001b[39mface_locations(image)\n",
      "\u001b[1;31mModuleNotFoundError\u001b[0m: No module named 'face_recognition'"
     ]
    }
   ],
   "source": [
    "import face_recognition\n",
    "def crop_face_and_save_gray(image, file_name):\n",
    "    # Detect face locations in the image\n",
    "    face_locations = face_recognition.face_locations(image)\n",
    "\n",
    "    # If no face is detected, return\n",
    "    if len(face_locations) == 0:\n",
    "        print(\"No face detected.\")\n",
    "        return\n",
    "\n",
    "    # Get the first detected face location\n",
    "    top, right, bottom, left = face_locations[0]\n",
    "\n",
    "    # Crop the face from the image\n",
    "    face_image = Image.fromarray(image[top:bottom, left:right])\n",
    "\n",
    "    # Convert the face image to grayscale\n",
    "    face_gray = face_image.convert('L')\n",
    "\n",
    "    # Save the grayscale face image\n",
    "    with open(file_name, 'wb') as img_file:\n",
    "        face_gray.save(img_file)\n",
    "\n",
    "    # Display the grayscale face image\n",
    "    face_gray.show()"
   ]
  },
  {
   "cell_type": "code",
   "execution_count": 11,
   "id": "9111d19a",
   "metadata": {},
   "outputs": [
    {
     "ename": "NameError",
     "evalue": "name 'face_recognition' is not defined",
     "output_type": "error",
     "traceback": [
      "\u001b[1;31m---------------------------------------------------------------------------\u001b[0m",
      "\u001b[1;31mNameError\u001b[0m                                 Traceback (most recent call last)",
      "Cell \u001b[1;32mIn[11], line 4\u001b[0m\n\u001b[0;32m      1\u001b[0m cropped_file_name \u001b[38;5;241m=\u001b[39m \u001b[38;5;124mf\u001b[39m\u001b[38;5;124m\"\u001b[39m\u001b[38;5;132;01m{\u001b[39;00myour_name\u001b[38;5;132;01m}\u001b[39;00m\u001b[38;5;124m_cropped_face_gray.jpg\u001b[39m\u001b[38;5;124m\"\u001b[39m\n\u001b[0;32m      3\u001b[0m \u001b[38;5;66;03m# Crop the face from the photo and save it as grayscale\u001b[39;00m\n\u001b[1;32m----> 4\u001b[0m \u001b[43mcrop_face_and_save_gray\u001b[49m\u001b[43m(\u001b[49m\u001b[43mimage\u001b[49m\u001b[43m,\u001b[49m\u001b[43m \u001b[49m\u001b[43mcropped_file_name\u001b[49m\u001b[43m)\u001b[49m\n",
      "Cell \u001b[1;32mIn[10], line 3\u001b[0m, in \u001b[0;36mcrop_face_and_save_gray\u001b[1;34m(image, file_name)\u001b[0m\n\u001b[0;32m      1\u001b[0m \u001b[38;5;28;01mdef\u001b[39;00m \u001b[38;5;21mcrop_face_and_save_gray\u001b[39m(image, file_name):\n\u001b[0;32m      2\u001b[0m     \u001b[38;5;66;03m# Detect face locations in the image\u001b[39;00m\n\u001b[1;32m----> 3\u001b[0m     face_locations \u001b[38;5;241m=\u001b[39m \u001b[43mface_recognition\u001b[49m\u001b[38;5;241m.\u001b[39mface_locations(image)\n\u001b[0;32m      5\u001b[0m     \u001b[38;5;66;03m# If no face is detected, return\u001b[39;00m\n\u001b[0;32m      6\u001b[0m     \u001b[38;5;28;01mif\u001b[39;00m \u001b[38;5;28mlen\u001b[39m(face_locations) \u001b[38;5;241m==\u001b[39m \u001b[38;5;241m0\u001b[39m:\n",
      "\u001b[1;31mNameError\u001b[0m: name 'face_recognition' is not defined"
     ]
    }
   ],
   "source": [
    "cropped_file_name = f\"{your_name}_cropped_face_gray.jpg\"\n",
    "\n",
    "# Crop the face from the photo and save it as grayscale\n",
    "crop_face_and_save_gray(image, cropped_file_name)"
   ]
  },
  {
   "cell_type": "code",
   "execution_count": null,
   "id": "b624e704",
   "metadata": {},
   "outputs": [],
   "source": []
  }
 ],
 "metadata": {
  "kernelspec": {
   "display_name": "Python 3 (ipykernel)",
   "language": "python",
   "name": "python3"
  },
  "language_info": {
   "codemirror_mode": {
    "name": "ipython",
    "version": 3
   },
   "file_extension": ".py",
   "mimetype": "text/x-python",
   "name": "python",
   "nbconvert_exporter": "python",
   "pygments_lexer": "ipython3",
   "version": "3.10.9"
  }
 },
 "nbformat": 4,
 "nbformat_minor": 5
}
